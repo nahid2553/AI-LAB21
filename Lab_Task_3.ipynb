{
  "nbformat": 4,
  "nbformat_minor": 0,
  "metadata": {
    "colab": {
      "name": "Lab Task 3.ipynb",
      "provenance": [],
      "authorship_tag": "ABX9TyPEuTp4btXlUqMVIxMVgzSz",
      "include_colab_link": true
    },
    "kernelspec": {
      "name": "python3",
      "display_name": "Python 3"
    },
    "language_info": {
      "name": "python"
    }
  },
  "cells": [
    {
      "cell_type": "markdown",
      "metadata": {
        "id": "view-in-github",
        "colab_type": "text"
      },
      "source": [
        "<a href=\"https://colab.research.google.com/github/nahid2553/AI-LAB21/blob/main/Lab_Task_3.ipynb\" target=\"_parent\"><img src=\"https://colab.research.google.com/assets/colab-badge.svg\" alt=\"Open In Colab\"/></a>"
      ]
    },
    {
      "cell_type": "code",
      "metadata": {
        "colab": {
          "base_uri": "https://localhost:8080/"
        },
        "id": "xr1tARJd--HA",
        "outputId": "776651e6-35f3-4cbd-e755-020663def7ec"
      },
      "source": [
        "data = []\n",
        "choice = 'random'\n",
        "\n",
        "def line():\n",
        "    print('***********************')\n",
        "\n",
        "def show_menu():\n",
        "    print('Choose one ')\n",
        "    print('1. Add item')\n",
        "    print('2. Mark as done')\n",
        "    print('3. View list')\n",
        "    print('4. Exit')\n",
        "    line()\n",
        "    choice = input('Enter your choice: ')\n",
        "    return choice\n",
        "\n",
        "while choice != '4':\n",
        "    choice = show_menu()\n",
        "    if choice == '1':\n",
        "        item = input('what do you want to store?')\n",
        "        data.append(item)\n",
        "        print('Item', item, 'added')\n",
        "    elif choice == '2':\n",
        "        item = input('What is to be marked as done? ')\n",
        "        if item in data:\n",
        "            data.remove(item)\n",
        "            print('Removed item', item)\n",
        "        else:\n",
        "            print('Could not find item', item)\n",
        "    elif choice == '3':\n",
        "        print('List of to-do items:')\n",
        "        for item in data:\n",
        "            print(item)\n",
        "    elif choice == '4':\n",
        "        print('Goodbye!')\n",
        "    else:\n",
        "        print('Please enter one of 1, 2, 3 or 4')"
      ],
      "execution_count": null,
      "outputs": [
        {
          "output_type": "stream",
          "text": [
            "Choose one \n",
            "1. Add item\n",
            "2. Mark as done\n",
            "3. View list\n",
            "4. Exit\n",
            "***********************\n",
            "Item ee added\n",
            "Choose one \n",
            "1. Add item\n",
            "2. Mark as done\n",
            "3. View list\n",
            "4. Exit\n",
            "***********************\n",
            "List of to-do items:\n",
            "ee\n",
            "Choose one \n",
            "1. Add item\n",
            "2. Mark as done\n",
            "3. View list\n",
            "4. Exit\n",
            "***********************\n"
          ],
          "name": "stdout"
        }
      ]
    },
    {
      "cell_type": "code",
      "metadata": {
        "id": "f9YVij5yAM09"
      },
      "source": [
        ""
      ],
      "execution_count": null,
      "outputs": []
    }
  ]
}